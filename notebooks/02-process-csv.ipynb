{
 "cells": [
  {
   "cell_type": "code",
   "execution_count": 48,
   "metadata": {
    "collapsed": true
   },
   "outputs": [],
   "source": [
    "import array, csv, math, os, time\n",
    "from datetime import timedelta, date, datetime\n",
    "\n",
    "\n",
    "def FormatDateStr(date_str, format_str):\n",
    "    return time.mktime(time.strptime(date_str, format_str))\n",
    "\n",
    "def LngLatToWebMercator(lnglat):\n",
    "    (lng, lat) = lnglat\n",
    "    x = (lng + 180.0) * 256.0 / 360.0\n",
    "    y = 128.0 - math.log(math.tan((lat + 90.0) * math.pi / 360.0)) * 128.0 / math.pi\n",
    "    return [x, y]\n",
    "\n",
    "\n",
    "def PackColor(color):\n",
    "    return color[0] + color[1] * 256.0 + color[2] * 256.0 * 256.0;\n",
    "\n",
    "def print_sheet_row(share_link_identifier, category, name, start_date, end_date):\n",
    "    row_str = \"TRUE\\t%s\\t\" % share_link_identifier\n",
    "    row_str += \"%s\\t%s\\t\" % (category, name)\n",
    "    row_str += \"NASA\\tbdrk\\t\\t\"\n",
    "    row_str += \"%s\\t%s\\t1\\t\" % (start_date, end_date)\n",
    "    row_str += \"%s\\t\\t\\t\" % url\n",
    "    row_str += \"point\\t\\t\\t\\t\\t\\t\\t\\t\\t\\t\\t\\t\\t\\t\\t\\tWebGLVectorTile2.prototype._loadData\\tWebGLVectorTile2.prototype._setBufferData\t\t5\tWebGLVectorTile2.PointColorStartEpochEndEpochVertexShader\tWebGLVectorTile2.PointColorStartEpochEndEpochFragmentShader\\tWebGLVectorTile2.prototype._drawPointColorStartEpochEndEpoch\"\n",
    "    return row_str"
   ]
  },
  {
   "cell_type": "code",
   "execution_count": 3,
   "metadata": {
    "collapsed": true
   },
   "outputs": [],
   "source": [
    "# Open data from 2016\n",
    "raw_data = []\n",
    "with open(\"../data/DL_FIRE_V1_36532/fire_archive_V1_36532.csv\") as f:\n",
    "    reader = csv.DictReader(f)\n",
    "    for row in reader:\n",
    "        raw_data.append(row)"
   ]
  },
  {
   "cell_type": "code",
   "execution_count": 30,
   "metadata": {},
   "outputs": [],
   "source": [
    "#format x,y,packed_color,epoch_0,epoch_1\n",
    "points = []\n",
    "for row in raw_data:\n",
    "    if row['confidence'] == 'h':\n",
    "        x,y = LngLatToWebMercator([float(row['longitude']), float(row['latitude'])])\n",
    "        packedColor = PackColor([185.0, 15.0, 7.0])\n",
    "        epoch_0 = FormatDateStr(row['acq_date'], '%Y-%m-%d')\n",
    "        epoch_1 = epoch_0 + 60*60*24*28\n",
    "        points += [x,y,packedColor,epoch_0,epoch_1]"
   ]
  },
  {
   "cell_type": "code",
   "execution_count": 35,
   "metadata": {},
   "outputs": [
    {
     "name": "stdout",
     "output_type": "stream",
     "text": [
      "viirs-2016.bin                                100%   22MB   8.2MB/s   00:02    \n"
     ]
    }
   ],
   "source": [
    "oname = \"../data/viirs-2016.bin\"\n",
    "array.array('f', points).tofile(open(oname, 'w'))"
   ]
  },
  {
   "cell_type": "code",
   "execution_count": null,
   "metadata": {
    "collapsed": true
   },
   "outputs": [],
   "source": [
    "# Upload data file to google cloud\n",
    "# In my case its accessible at: https://storage.cloud.google.com/earthtime-gabrielo/viirs-2016.bin"
   ]
  },
  {
   "cell_type": "code",
   "execution_count": 42,
   "metadata": {},
   "outputs": [],
   "source": [
    "# We use these variables for making the new layer accessible via davos2019.earthtime.org\n",
    "share_link_identifier = \"gabrielo_example_viirs_2016\"\n",
    "category = \"Energy\"\n",
    "name = \"VIIRS 2016\"\n",
    "start_date = \"20160101\"\n",
    "end_date = \"20161231\"\n",
    "url = \"https://storage.googleapis.com/earthtime-gabrielo/viirs-2016.bin\""
   ]
  },
  {
   "cell_type": "code",
   "execution_count": 47,
   "metadata": {},
   "outputs": [
    {
     "name": "stdout",
     "output_type": "stream",
     "text": [
      "TRUE\tgabrielo_example_viirs_2016\tEnergy\tVIIRS 2016\tNASA\tbdrk\t\t20160101\t20161231\t1\thttps://storage.cloud.google.com/earthtime-gabrielo/viirs-2016.bin\t\t\tpoint\t\t\t\t\t\t\t\t\t\t\t\t\t\t\t\tWebGLVectorTile2.prototype._loadData\tWebGLVectorTile2.prototype._setBufferData\t\t5\tWebGLVectorTile2.PointColorStartEpochEndEpochVertexShader\tWebGLVectorTile2.PointColorStartEpochEndEpochFragmentShader\tWebGLVectorTile2.prototype._drawPointColorStartEpochEndEpoch\n"
     ]
    }
   ],
   "source": [
    "# Copy and paste the below into the sheet titled CSV Layers\n",
    "print print_sheet_row(share_link_identifier, category, name, start_date, end_date)"
   ]
  },
  {
   "cell_type": "code",
   "execution_count": null,
   "metadata": {
    "collapsed": true
   },
   "outputs": [],
   "source": []
  }
 ],
 "metadata": {
  "kernelspec": {
   "display_name": "Python 2",
   "language": "python",
   "name": "python2"
  },
  "language_info": {
   "codemirror_mode": {
    "name": "ipython",
    "version": 2
   },
   "file_extension": ".py",
   "mimetype": "text/x-python",
   "name": "python",
   "nbconvert_exporter": "python",
   "pygments_lexer": "ipython2",
   "version": "2.7.13"
  }
 },
 "nbformat": 4,
 "nbformat_minor": 2
}
