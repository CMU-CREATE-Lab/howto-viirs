{
 "cells": [
  {
   "cell_type": "code",
   "execution_count": 25,
   "metadata": {
    "collapsed": true
   },
   "outputs": [],
   "source": [
    "import array, csv, math, os, time\n",
    "from datetime import timedelta, date, datetime\n",
    "\n",
    "\n",
    "def FormatDateStr(date_str, format_str):\n",
    "    return time.mktime(time.strptime(date_str, format_str))\n",
    "\n",
    "def LngLatToWebMercator(lnglat):\n",
    "    (lng, lat) = lnglat\n",
    "    x = (lng + 180.0) * 256.0 / 360.0\n",
    "    y = 128.0 - math.log(math.tan((lat + 90.0) * math.pi / 360.0)) * 128.0 / math.pi\n",
    "    return [x, y]\n",
    "\n",
    "\n",
    "def PackColor(color):\n",
    "    return color[0] + color[1] * 256.0 + color[2] * 256.0 * 256.0;\n"
   ]
  },
  {
   "cell_type": "code",
   "execution_count": 3,
   "metadata": {
    "collapsed": true
   },
   "outputs": [],
   "source": [
    "raw_data = []\n",
    "with open(\"../data/DL_FIRE_V1_36532/fire_archive_V1_36532.csv\") as f:\n",
    "    reader = csv.DictReader(f)\n",
    "    for row in reader:\n",
    "        raw_data.append(row)"
   ]
  },
  {
   "cell_type": "code",
   "execution_count": 11,
   "metadata": {},
   "outputs": [
    {
     "data": {
      "text/plain": [
       "20299549"
      ]
     },
     "execution_count": 11,
     "metadata": {},
     "output_type": "execute_result"
    }
   ],
   "source": [
    "len(raw_data)"
   ]
  },
  {
   "cell_type": "code",
   "execution_count": 4,
   "metadata": {},
   "outputs": [
    {
     "data": {
      "text/plain": [
       "{'acq_date': '2016-01-01',\n",
       " 'acq_time': '2346',\n",
       " 'bright_ti4': '333.1',\n",
       " 'bright_ti5': '293.9',\n",
       " 'confidence': 'n',\n",
       " 'frp': '5.9',\n",
       " 'instrument': 'VIIRS',\n",
       " 'latitude': '19.40819',\n",
       " 'longitude': '-155.27365',\n",
       " 'satellite': 'N',\n",
       " 'scan': '0.44',\n",
       " 'track': '0.38',\n",
       " 'type': '1',\n",
       " 'version': '1'}"
      ]
     },
     "execution_count": 4,
     "metadata": {},
     "output_type": "execute_result"
    }
   ],
   "source": [
    "raw_data[0]"
   ]
  },
  {
   "cell_type": "code",
   "execution_count": 8,
   "metadata": {},
   "outputs": [
    {
     "data": {
      "text/plain": [
       "1451624400.0"
      ]
     },
     "execution_count": 8,
     "metadata": {},
     "output_type": "execute_result"
    }
   ],
   "source": [
    "FormatDateStr(raw_data[0]['acq_date'], '%Y-%m-%d')"
   ]
  },
  {
   "cell_type": "code",
   "execution_count": 10,
   "metadata": {},
   "outputs": [
    {
     "data": {
      "text/plain": [
       "[17.58318222222222, 113.92685303861967]"
      ]
     },
     "execution_count": 10,
     "metadata": {},
     "output_type": "execute_result"
    }
   ],
   "source": [
    "LngLatToWebMercator([float(raw_data[0]['longitude']), float(raw_data[0]['latitude'])])"
   ]
  },
  {
   "cell_type": "code",
   "execution_count": 30,
   "metadata": {},
   "outputs": [],
   "source": [
    "#format x,y,packed_color,epoch_0,epoch_1\n",
    "points = []\n",
    "for row in raw_data:\n",
    "    if row['confidence'] == 'h':\n",
    "        x,y = LngLatToWebMercator([float(row['longitude']), float(row['latitude'])])\n",
    "        packedColor = PackColor([185.0, 15.0, 7.0])\n",
    "        epoch_0 = FormatDateStr(row['acq_date'], '%Y-%m-%d')\n",
    "        epoch_1 = epoch_0 + 60*60*24*28\n",
    "        points += [x,y,packedColor,epoch_0,epoch_1]"
   ]
  },
  {
   "cell_type": "code",
   "execution_count": 31,
   "metadata": {},
   "outputs": [
    {
     "data": {
      "text/plain": [
       "1179157.0"
      ]
     },
     "execution_count": 31,
     "metadata": {},
     "output_type": "execute_result"
    }
   ],
   "source": [
    "len(points)/5.0"
   ]
  },
  {
   "cell_type": "code",
   "execution_count": 35,
   "metadata": {},
   "outputs": [
    {
     "name": "stdout",
     "output_type": "stream",
     "text": [
      "viirs-2016.bin                                100%   22MB   8.2MB/s   00:02    \n"
     ]
    }
   ],
   "source": [
    "oname = \"../data/viirs-2016.bin\"\n",
    "array.array('f', points).tofile(open(oname, 'w'))\n",
    "cmd = \"scp %s timemachine2:/t/earthtime.org/app/data/viirs\" % oname\n",
    "!$cmd"
   ]
  }
 ],
 "metadata": {
  "kernelspec": {
   "display_name": "Python 2",
   "language": "python",
   "name": "python2"
  },
  "language_info": {
   "codemirror_mode": {
    "name": "ipython",
    "version": 2
   },
   "file_extension": ".py",
   "mimetype": "text/x-python",
   "name": "python",
   "nbconvert_exporter": "python",
   "pygments_lexer": "ipython2",
   "version": "2.7.13"
  }
 },
 "nbformat": 4,
 "nbformat_minor": 2
}
