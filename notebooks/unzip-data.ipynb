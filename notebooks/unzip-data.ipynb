{
 "cells": [
  {
   "cell_type": "code",
   "execution_count": 5,
   "metadata": {
    "collapsed": true
   },
   "outputs": [],
   "source": [
    "import glob, os"
   ]
  },
  {
   "cell_type": "code",
   "execution_count": 8,
   "metadata": {},
   "outputs": [
    {
     "name": "stdout",
     "output_type": "stream",
     "text": [
      "Archive:  ../data/DL_FIRE_V1_36525.zip\n",
      "  inflating: ../data/DL_FIRE_V1_36525/fire_archive_V1_36525.csv  \n",
      "  inflating: ../data/DL_FIRE_V1_36525/fire_nrt_V1_36525.csv  \n",
      "  inflating: ../data/DL_FIRE_V1_36525/Readme.txt  \n",
      "Archive:  ../data/DL_FIRE_V1_36526.zip\n",
      "  inflating: ../data/DL_FIRE_V1_36526/fire_archive_V1_36526.csv  \n",
      "  inflating: ../data/DL_FIRE_V1_36526/Readme.txt  \n",
      "Archive:  ../data/DL_FIRE_V1_36532.zip\n",
      "  inflating: ../data/DL_FIRE_V1_36532/fire_archive_V1_36532.csv  \n",
      "  inflating: ../data/DL_FIRE_V1_36532/Readme.txt  \n"
     ]
    }
   ],
   "source": [
    "for fname in glob.glob(\"../data/*.zip\"):\n",
    "    dname = os.path.basename(fname).split(\".\")[0]\n",
    "    cmd = \"unzip %s -d ../data/%s\" % (fname, dname)\n",
    "    !$cmd"
   ]
  },
  {
   "cell_type": "code",
   "execution_count": 3,
   "metadata": {},
   "outputs": [
    {
     "ename": "NameError",
     "evalue": "name 'fname' is not defined",
     "output_type": "error",
     "traceback": [
      "\u001b[0;31m---------------------------------------------------------------------------\u001b[0m",
      "\u001b[0;31mNameError\u001b[0m                                 Traceback (most recent call last)",
      "\u001b[0;32m<ipython-input-3-fce035e258cc>\u001b[0m in \u001b[0;36m<module>\u001b[0;34m()\u001b[0m\n\u001b[0;32m----> 1\u001b[0;31m \u001b[0mfname\u001b[0m\u001b[0;34m\u001b[0m\u001b[0m\n\u001b[0m",
      "\u001b[0;31mNameError\u001b[0m: name 'fname' is not defined"
     ]
    }
   ],
   "source": []
  },
  {
   "cell_type": "code",
   "execution_count": null,
   "metadata": {
    "collapsed": true
   },
   "outputs": [],
   "source": []
  }
 ],
 "metadata": {
  "kernelspec": {
   "display_name": "Python 2",
   "language": "python",
   "name": "python2"
  },
  "language_info": {
   "codemirror_mode": {
    "name": "ipython",
    "version": 2
   },
   "file_extension": ".py",
   "mimetype": "text/x-python",
   "name": "python",
   "nbconvert_exporter": "python",
   "pygments_lexer": "ipython2",
   "version": "2.7.13"
  }
 },
 "nbformat": 4,
 "nbformat_minor": 2
}
